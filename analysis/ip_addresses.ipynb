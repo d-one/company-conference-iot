{
 "cells": [
  {
   "cell_type": "code",
   "execution_count": null,
   "metadata": {},
   "outputs": [],
   "source": [
    "!pip install pandas==1.5.*"
   ]
  },
  {
   "cell_type": "code",
   "execution_count": 1,
   "metadata": {},
   "outputs": [
    {
     "ename": "KeyboardInterrupt",
     "evalue": "",
     "output_type": "error",
     "traceback": [
      "\u001b[1;31m---------------------------------------------------------------------------\u001b[0m",
      "\u001b[1;31mKeyboardInterrupt\u001b[0m                         Traceback (most recent call last)",
      "Cell \u001b[1;32mIn [1], line 1\u001b[0m\n\u001b[1;32m----> 1\u001b[0m get_ipython()\u001b[39m.\u001b[39;49mrun_cell_magic(\u001b[39m'\u001b[39;49m\u001b[39mtimeit\u001b[39;49m\u001b[39m'\u001b[39;49m, \u001b[39m'\u001b[39;49m\u001b[39m'\u001b[39;49m, \u001b[39m'\u001b[39;49m\u001b[39mimport boto3\u001b[39;49m\u001b[39m\\n\u001b[39;49;00m\u001b[39mimport os\u001b[39;49m\u001b[39m\\n\u001b[39;49;00m\u001b[39m\\n\u001b[39;49;00m\u001b[39m\\n\u001b[39;49;00m\u001b[39mBUCKET_NAME = \u001b[39;49m\u001b[39m\\'\u001b[39;49;00m\u001b[39miot-workshop-publish-ip\u001b[39;49m\u001b[39m\\'\u001b[39;49;00m\u001b[39m\\n\u001b[39;49;00m\u001b[39mTOPIC = \u001b[39;49m\u001b[39m\\'\u001b[39;49;00m\u001b[39mtopic/publish_ip\u001b[39;49m\u001b[39m\\'\u001b[39;49;00m\u001b[39m\\n\u001b[39;49;00m\u001b[39m\\n\u001b[39;49;00m\u001b[39m\\n\u001b[39;49;00m\u001b[39ms3 = boto3.resource(\u001b[39;49m\u001b[39m\\'\u001b[39;49;00m\u001b[39ms3\u001b[39;49m\u001b[39m\\'\u001b[39;49;00m\u001b[39m)\u001b[39;49m\u001b[39m\\n\u001b[39;49;00m\u001b[39m\\n\u001b[39;49;00m\u001b[39m\\n\u001b[39;49;00m\u001b[39mdef download_s3_folder(bucket_name: str, s3_folder: str, local_dir: str = None) -> None:\u001b[39;49m\u001b[39m\\n\u001b[39;49;00m\u001b[39m    \u001b[39;49m\u001b[39m\"\u001b[39;49m\u001b[39m\"\u001b[39;49m\u001b[39m\"\u001b[39;49m\u001b[39m\\n\u001b[39;49;00m\u001b[39m    Download the contents of a folder directory\u001b[39;49m\u001b[39m\\n\u001b[39;49;00m\u001b[39m    Args:\u001b[39;49m\u001b[39m\\n\u001b[39;49;00m\u001b[39m        bucket_name: the name of the s3 bucket\u001b[39;49m\u001b[39m\\n\u001b[39;49;00m\u001b[39m        s3_folder: the folder path in the s3 bucket\u001b[39;49m\u001b[39m\\n\u001b[39;49;00m\u001b[39m        local_dir: a relative or absolute directory path in the local file system\u001b[39;49m\u001b[39m\\n\u001b[39;49;00m\u001b[39m    \u001b[39;49m\u001b[39m\\n\u001b[39;49;00m\u001b[39m    Returns:\u001b[39;49m\u001b[39m\\n\u001b[39;49;00m\u001b[39m        Nothing, downloads files in the S3 bucket into `local_dir`.\u001b[39;49m\u001b[39m\\n\u001b[39;49;00m\u001b[39m    \u001b[39;49m\u001b[39m\"\u001b[39;49m\u001b[39m\"\u001b[39;49m\u001b[39m\"\u001b[39;49m\u001b[39m\\n\u001b[39;49;00m\u001b[39m    bucket = s3.Bucket(bucket_name)\u001b[39;49m\u001b[39m\\n\u001b[39;49;00m\u001b[39m\\n\u001b[39;49;00m\u001b[39m    for obj in bucket.objects.filter(Prefix=s3_folder):\u001b[39;49m\u001b[39m\\n\u001b[39;49;00m\u001b[39m        target = obj.key if local_dir is None \u001b[39;49m\u001b[39m\\\\\u001b[39;49;00m\u001b[39m\\n\u001b[39;49;00m\u001b[39m            else os.path.join(local_dir, os.path.relpath(obj.key, s3_folder))\u001b[39;49m\u001b[39m\\n\u001b[39;49;00m\u001b[39m        if not os.path.exists(os.path.dirname(target)):\u001b[39;49m\u001b[39m\\n\u001b[39;49;00m\u001b[39m            os.makedirs(os.path.dirname(target))\u001b[39;49m\u001b[39m\\n\u001b[39;49;00m\u001b[39m        if obj.key[-1] == \u001b[39;49m\u001b[39m\\'\u001b[39;49;00m\u001b[39m/\u001b[39;49m\u001b[39m\\'\u001b[39;49;00m\u001b[39m:\u001b[39;49m\u001b[39m\\n\u001b[39;49;00m\u001b[39m            continue\u001b[39;49m\u001b[39m\\n\u001b[39;49;00m\u001b[39m        bucket.download_file(obj.key, target)\u001b[39;49m\u001b[39m\\n\u001b[39;49;00m\u001b[39m#         print(f\u001b[39;49m\u001b[39m\\'\u001b[39;49;00m\u001b[39mDownloaded \u001b[39;49m\u001b[39m{obj}\u001b[39;49;00m\u001b[39m.\u001b[39;49m\u001b[39m\\'\u001b[39;49;00m\u001b[39m)\u001b[39;49m\u001b[39m\\n\u001b[39;49;00m\u001b[39m\\n\u001b[39;49;00m\u001b[39mdownload_s3_folder(\u001b[39;49m\u001b[39m\\n\u001b[39;49;00m\u001b[39m    bucket_name=BUCKET_NAME,\u001b[39;49m\u001b[39m\\n\u001b[39;49;00m\u001b[39m    s3_folder=TOPIC\u001b[39;49m\u001b[39m\\n\u001b[39;49;00m\u001b[39m)\u001b[39;49m\u001b[39m\\n\u001b[39;49;00m\u001b[39m'\u001b[39;49m)\n",
      "File \u001b[1;32mc:\\Users\\heiko\\OneDrive\\02_Arbeit\\2021-_DONE\\05_Conferences\\2022_CompanyWorkshop\\01_IoT\\repo\\env\\lib\\site-packages\\IPython\\core\\interactiveshell.py:2362\u001b[0m, in \u001b[0;36mInteractiveShell.run_cell_magic\u001b[1;34m(self, magic_name, line, cell)\u001b[0m\n\u001b[0;32m   2360\u001b[0m \u001b[39mwith\u001b[39;00m \u001b[39mself\u001b[39m\u001b[39m.\u001b[39mbuiltin_trap:\n\u001b[0;32m   2361\u001b[0m     args \u001b[39m=\u001b[39m (magic_arg_s, cell)\n\u001b[1;32m-> 2362\u001b[0m     result \u001b[39m=\u001b[39m fn(\u001b[39m*\u001b[39margs, \u001b[39m*\u001b[39m\u001b[39m*\u001b[39mkwargs)\n\u001b[0;32m   2363\u001b[0m \u001b[39mreturn\u001b[39;00m result\n",
      "File \u001b[1;32mc:\\Users\\heiko\\OneDrive\\02_Arbeit\\2021-_DONE\\05_Conferences\\2022_CompanyWorkshop\\01_IoT\\repo\\env\\lib\\site-packages\\IPython\\core\\magics\\execution.py:1166\u001b[0m, in \u001b[0;36mExecutionMagics.timeit\u001b[1;34m(self, line, cell, local_ns)\u001b[0m\n\u001b[0;32m   1163\u001b[0m         \u001b[39mif\u001b[39;00m time_number \u001b[39m>\u001b[39m\u001b[39m=\u001b[39m \u001b[39m0.2\u001b[39m:\n\u001b[0;32m   1164\u001b[0m             \u001b[39mbreak\u001b[39;00m\n\u001b[1;32m-> 1166\u001b[0m all_runs \u001b[39m=\u001b[39m timer\u001b[39m.\u001b[39;49mrepeat(repeat, number)\n\u001b[0;32m   1167\u001b[0m best \u001b[39m=\u001b[39m \u001b[39mmin\u001b[39m(all_runs) \u001b[39m/\u001b[39m number\n\u001b[0;32m   1168\u001b[0m worst \u001b[39m=\u001b[39m \u001b[39mmax\u001b[39m(all_runs) \u001b[39m/\u001b[39m number\n",
      "File \u001b[1;32m~\\.pyenv\\pyenv-win\\versions\\3.10.5\\lib\\timeit.py:206\u001b[0m, in \u001b[0;36mTimer.repeat\u001b[1;34m(self, repeat, number)\u001b[0m\n\u001b[0;32m    204\u001b[0m r \u001b[39m=\u001b[39m []\n\u001b[0;32m    205\u001b[0m \u001b[39mfor\u001b[39;00m i \u001b[39min\u001b[39;00m \u001b[39mrange\u001b[39m(repeat):\n\u001b[1;32m--> 206\u001b[0m     t \u001b[39m=\u001b[39m \u001b[39mself\u001b[39;49m\u001b[39m.\u001b[39;49mtimeit(number)\n\u001b[0;32m    207\u001b[0m     r\u001b[39m.\u001b[39mappend(t)\n\u001b[0;32m    208\u001b[0m \u001b[39mreturn\u001b[39;00m r\n",
      "File \u001b[1;32mc:\\Users\\heiko\\OneDrive\\02_Arbeit\\2021-_DONE\\05_Conferences\\2022_CompanyWorkshop\\01_IoT\\repo\\env\\lib\\site-packages\\IPython\\core\\magics\\execution.py:156\u001b[0m, in \u001b[0;36mTimer.timeit\u001b[1;34m(self, number)\u001b[0m\n\u001b[0;32m    154\u001b[0m gc\u001b[39m.\u001b[39mdisable()\n\u001b[0;32m    155\u001b[0m \u001b[39mtry\u001b[39;00m:\n\u001b[1;32m--> 156\u001b[0m     timing \u001b[39m=\u001b[39m \u001b[39mself\u001b[39;49m\u001b[39m.\u001b[39;49minner(it, \u001b[39mself\u001b[39;49m\u001b[39m.\u001b[39;49mtimer)\n\u001b[0;32m    157\u001b[0m \u001b[39mfinally\u001b[39;00m:\n\u001b[0;32m    158\u001b[0m     \u001b[39mif\u001b[39;00m gcold:\n",
      "File \u001b[1;32m<magic-timeit>:35\u001b[0m, in \u001b[0;36minner\u001b[1;34m(_it, _timer)\u001b[0m\n",
      "File \u001b[1;32m<magic-timeit>:32\u001b[0m, in \u001b[0;36mdownload_s3_folder\u001b[1;34m(bucket_name, s3_folder, local_dir)\u001b[0m\n",
      "File \u001b[1;32mc:\\Users\\heiko\\OneDrive\\02_Arbeit\\2021-_DONE\\05_Conferences\\2022_CompanyWorkshop\\01_IoT\\repo\\env\\lib\\site-packages\\boto3\\s3\\inject.py:277\u001b[0m, in \u001b[0;36mbucket_download_file\u001b[1;34m(self, Key, Filename, ExtraArgs, Callback, Config)\u001b[0m\n\u001b[0;32m    243\u001b[0m \u001b[39mdef\u001b[39;00m \u001b[39mbucket_download_file\u001b[39m(\n\u001b[0;32m    244\u001b[0m     \u001b[39mself\u001b[39m, Key, Filename, ExtraArgs\u001b[39m=\u001b[39m\u001b[39mNone\u001b[39;00m, Callback\u001b[39m=\u001b[39m\u001b[39mNone\u001b[39;00m, Config\u001b[39m=\u001b[39m\u001b[39mNone\u001b[39;00m\n\u001b[0;32m    245\u001b[0m ):\n\u001b[0;32m    246\u001b[0m     \u001b[39m\"\"\"Download an S3 object to a file.\u001b[39;00m\n\u001b[0;32m    247\u001b[0m \n\u001b[0;32m    248\u001b[0m \u001b[39m    Usage::\u001b[39;00m\n\u001b[1;32m   (...)\u001b[0m\n\u001b[0;32m    275\u001b[0m \u001b[39m        transfer.\u001b[39;00m\n\u001b[0;32m    276\u001b[0m \u001b[39m    \"\"\"\u001b[39;00m\n\u001b[1;32m--> 277\u001b[0m     \u001b[39mreturn\u001b[39;00m \u001b[39mself\u001b[39;49m\u001b[39m.\u001b[39;49mmeta\u001b[39m.\u001b[39;49mclient\u001b[39m.\u001b[39;49mdownload_file(\n\u001b[0;32m    278\u001b[0m         Bucket\u001b[39m=\u001b[39;49m\u001b[39mself\u001b[39;49m\u001b[39m.\u001b[39;49mname,\n\u001b[0;32m    279\u001b[0m         Key\u001b[39m=\u001b[39;49mKey,\n\u001b[0;32m    280\u001b[0m         Filename\u001b[39m=\u001b[39;49mFilename,\n\u001b[0;32m    281\u001b[0m         ExtraArgs\u001b[39m=\u001b[39;49mExtraArgs,\n\u001b[0;32m    282\u001b[0m         Callback\u001b[39m=\u001b[39;49mCallback,\n\u001b[0;32m    283\u001b[0m         Config\u001b[39m=\u001b[39;49mConfig,\n\u001b[0;32m    284\u001b[0m     )\n",
      "File \u001b[1;32mc:\\Users\\heiko\\OneDrive\\02_Arbeit\\2021-_DONE\\05_Conferences\\2022_CompanyWorkshop\\01_IoT\\repo\\env\\lib\\site-packages\\boto3\\s3\\inject.py:190\u001b[0m, in \u001b[0;36mdownload_file\u001b[1;34m(self, Bucket, Key, Filename, ExtraArgs, Callback, Config)\u001b[0m\n\u001b[0;32m    155\u001b[0m \u001b[39m\"\"\"Download an S3 object to a file.\u001b[39;00m\n\u001b[0;32m    156\u001b[0m \n\u001b[0;32m    157\u001b[0m \u001b[39mUsage::\u001b[39;00m\n\u001b[1;32m   (...)\u001b[0m\n\u001b[0;32m    187\u001b[0m \u001b[39m    transfer.\u001b[39;00m\n\u001b[0;32m    188\u001b[0m \u001b[39m\"\"\"\u001b[39;00m\n\u001b[0;32m    189\u001b[0m \u001b[39mwith\u001b[39;00m S3Transfer(\u001b[39mself\u001b[39m, Config) \u001b[39mas\u001b[39;00m transfer:\n\u001b[1;32m--> 190\u001b[0m     \u001b[39mreturn\u001b[39;00m transfer\u001b[39m.\u001b[39;49mdownload_file(\n\u001b[0;32m    191\u001b[0m         bucket\u001b[39m=\u001b[39;49mBucket,\n\u001b[0;32m    192\u001b[0m         key\u001b[39m=\u001b[39;49mKey,\n\u001b[0;32m    193\u001b[0m         filename\u001b[39m=\u001b[39;49mFilename,\n\u001b[0;32m    194\u001b[0m         extra_args\u001b[39m=\u001b[39;49mExtraArgs,\n\u001b[0;32m    195\u001b[0m         callback\u001b[39m=\u001b[39;49mCallback,\n\u001b[0;32m    196\u001b[0m     )\n",
      "File \u001b[1;32mc:\\Users\\heiko\\OneDrive\\02_Arbeit\\2021-_DONE\\05_Conferences\\2022_CompanyWorkshop\\01_IoT\\repo\\env\\lib\\site-packages\\boto3\\s3\\transfer.py:320\u001b[0m, in \u001b[0;36mS3Transfer.download_file\u001b[1;34m(self, bucket, key, filename, extra_args, callback)\u001b[0m\n\u001b[0;32m    316\u001b[0m future \u001b[39m=\u001b[39m \u001b[39mself\u001b[39m\u001b[39m.\u001b[39m_manager\u001b[39m.\u001b[39mdownload(\n\u001b[0;32m    317\u001b[0m     bucket, key, filename, extra_args, subscribers\n\u001b[0;32m    318\u001b[0m )\n\u001b[0;32m    319\u001b[0m \u001b[39mtry\u001b[39;00m:\n\u001b[1;32m--> 320\u001b[0m     future\u001b[39m.\u001b[39;49mresult()\n\u001b[0;32m    321\u001b[0m \u001b[39m# This is for backwards compatibility where when retries are\u001b[39;00m\n\u001b[0;32m    322\u001b[0m \u001b[39m# exceeded we need to throw the same error from boto3 instead of\u001b[39;00m\n\u001b[0;32m    323\u001b[0m \u001b[39m# s3transfer's built in RetriesExceededError as current users are\u001b[39;00m\n\u001b[0;32m    324\u001b[0m \u001b[39m# catching the boto3 one instead of the s3transfer exception to do\u001b[39;00m\n\u001b[0;32m    325\u001b[0m \u001b[39m# their own retries.\u001b[39;00m\n\u001b[0;32m    326\u001b[0m \u001b[39mexcept\u001b[39;00m S3TransferRetriesExceededError \u001b[39mas\u001b[39;00m e:\n",
      "File \u001b[1;32mc:\\Users\\heiko\\OneDrive\\02_Arbeit\\2021-_DONE\\05_Conferences\\2022_CompanyWorkshop\\01_IoT\\repo\\env\\lib\\site-packages\\s3transfer\\futures.py:106\u001b[0m, in \u001b[0;36mTransferFuture.result\u001b[1;34m(self)\u001b[0m\n\u001b[0;32m    104\u001b[0m \u001b[39mexcept\u001b[39;00m \u001b[39mKeyboardInterrupt\u001b[39;00m \u001b[39mas\u001b[39;00m e:\n\u001b[0;32m    105\u001b[0m     \u001b[39mself\u001b[39m\u001b[39m.\u001b[39mcancel()\n\u001b[1;32m--> 106\u001b[0m     \u001b[39mraise\u001b[39;00m e\n",
      "File \u001b[1;32mc:\\Users\\heiko\\OneDrive\\02_Arbeit\\2021-_DONE\\05_Conferences\\2022_CompanyWorkshop\\01_IoT\\repo\\env\\lib\\site-packages\\s3transfer\\futures.py:103\u001b[0m, in \u001b[0;36mTransferFuture.result\u001b[1;34m(self)\u001b[0m\n\u001b[0;32m     98\u001b[0m \u001b[39mdef\u001b[39;00m \u001b[39mresult\u001b[39m(\u001b[39mself\u001b[39m):\n\u001b[0;32m     99\u001b[0m     \u001b[39mtry\u001b[39;00m:\n\u001b[0;32m    100\u001b[0m         \u001b[39m# Usually the result() method blocks until the transfer is done,\u001b[39;00m\n\u001b[0;32m    101\u001b[0m         \u001b[39m# however if a KeyboardInterrupt is raised we want want to exit\u001b[39;00m\n\u001b[0;32m    102\u001b[0m         \u001b[39m# out of this and propagate the exception.\u001b[39;00m\n\u001b[1;32m--> 103\u001b[0m         \u001b[39mreturn\u001b[39;00m \u001b[39mself\u001b[39;49m\u001b[39m.\u001b[39;49m_coordinator\u001b[39m.\u001b[39;49mresult()\n\u001b[0;32m    104\u001b[0m     \u001b[39mexcept\u001b[39;00m \u001b[39mKeyboardInterrupt\u001b[39;00m \u001b[39mas\u001b[39;00m e:\n\u001b[0;32m    105\u001b[0m         \u001b[39mself\u001b[39m\u001b[39m.\u001b[39mcancel()\n",
      "File \u001b[1;32mc:\\Users\\heiko\\OneDrive\\02_Arbeit\\2021-_DONE\\05_Conferences\\2022_CompanyWorkshop\\01_IoT\\repo\\env\\lib\\site-packages\\s3transfer\\futures.py:261\u001b[0m, in \u001b[0;36mTransferCoordinator.result\u001b[1;34m(self)\u001b[0m\n\u001b[0;32m    251\u001b[0m \u001b[39m\"\"\"Waits until TransferFuture is done and returns the result\u001b[39;00m\n\u001b[0;32m    252\u001b[0m \n\u001b[0;32m    253\u001b[0m \u001b[39mIf the TransferFuture succeeded, it will return the result. If the\u001b[39;00m\n\u001b[0;32m    254\u001b[0m \u001b[39mTransferFuture failed, it will raise the exception associated to the\u001b[39;00m\n\u001b[0;32m    255\u001b[0m \u001b[39mfailure.\u001b[39;00m\n\u001b[0;32m    256\u001b[0m \u001b[39m\"\"\"\u001b[39;00m\n\u001b[0;32m    257\u001b[0m \u001b[39m# Doing a wait() with no timeout cannot be interrupted in python2 but\u001b[39;00m\n\u001b[0;32m    258\u001b[0m \u001b[39m# can be interrupted in python3 so we just wait with the largest\u001b[39;00m\n\u001b[0;32m    259\u001b[0m \u001b[39m# possible value integer value, which is on the scale of billions of\u001b[39;00m\n\u001b[0;32m    260\u001b[0m \u001b[39m# years...\u001b[39;00m\n\u001b[1;32m--> 261\u001b[0m \u001b[39mself\u001b[39;49m\u001b[39m.\u001b[39;49m_done_event\u001b[39m.\u001b[39;49mwait(MAXINT)\n\u001b[0;32m    263\u001b[0m \u001b[39m# Once done waiting, raise an exception if present or return the\u001b[39;00m\n\u001b[0;32m    264\u001b[0m \u001b[39m# final result.\u001b[39;00m\n\u001b[0;32m    265\u001b[0m \u001b[39mif\u001b[39;00m \u001b[39mself\u001b[39m\u001b[39m.\u001b[39m_exception:\n",
      "File \u001b[1;32m~\\.pyenv\\pyenv-win\\versions\\3.10.5\\lib\\threading.py:607\u001b[0m, in \u001b[0;36mEvent.wait\u001b[1;34m(self, timeout)\u001b[0m\n\u001b[0;32m    605\u001b[0m signaled \u001b[39m=\u001b[39m \u001b[39mself\u001b[39m\u001b[39m.\u001b[39m_flag\n\u001b[0;32m    606\u001b[0m \u001b[39mif\u001b[39;00m \u001b[39mnot\u001b[39;00m signaled:\n\u001b[1;32m--> 607\u001b[0m     signaled \u001b[39m=\u001b[39m \u001b[39mself\u001b[39;49m\u001b[39m.\u001b[39;49m_cond\u001b[39m.\u001b[39;49mwait(timeout)\n\u001b[0;32m    608\u001b[0m \u001b[39mreturn\u001b[39;00m signaled\n",
      "File \u001b[1;32m~\\.pyenv\\pyenv-win\\versions\\3.10.5\\lib\\threading.py:320\u001b[0m, in \u001b[0;36mCondition.wait\u001b[1;34m(self, timeout)\u001b[0m\n\u001b[0;32m    318\u001b[0m \u001b[39mtry\u001b[39;00m:    \u001b[39m# restore state no matter what (e.g., KeyboardInterrupt)\u001b[39;00m\n\u001b[0;32m    319\u001b[0m     \u001b[39mif\u001b[39;00m timeout \u001b[39mis\u001b[39;00m \u001b[39mNone\u001b[39;00m:\n\u001b[1;32m--> 320\u001b[0m         waiter\u001b[39m.\u001b[39;49macquire()\n\u001b[0;32m    321\u001b[0m         gotit \u001b[39m=\u001b[39m \u001b[39mTrue\u001b[39;00m\n\u001b[0;32m    322\u001b[0m     \u001b[39melse\u001b[39;00m:\n",
      "\u001b[1;31mKeyboardInterrupt\u001b[0m: "
     ]
    }
   ],
   "source": [
    "%%timeit\n",
    "import boto3\n",
    "import os\n",
    "\n",
    "\n",
    "BUCKET_NAME = 'iot-workshop-publish-ip'\n",
    "TOPIC = 'topic/publish_ip'\n",
    "\n",
    "\n",
    "s3 = boto3.resource('s3')\n",
    "\n",
    "\n",
    "def download_s3_folder(bucket_name: str, s3_folder: str, local_dir: str = None) -> None:\n",
    "    \"\"\"\n",
    "    Download the contents of a folder directory\n",
    "    Args:\n",
    "        bucket_name: the name of the s3 bucket\n",
    "        s3_folder: the folder path in the s3 bucket\n",
    "        local_dir: a relative or absolute directory path in the local file system\n",
    "    \n",
    "    Returns:\n",
    "        Nothing, downloads files in the S3 bucket into `local_dir`.\n",
    "    \"\"\"\n",
    "    bucket = s3.Bucket(bucket_name)\n",
    "\n",
    "    for obj in bucket.objects.filter(Prefix=s3_folder):\n",
    "        target = obj.key if local_dir is None \\\n",
    "            else os.path.join(local_dir, os.path.relpath(obj.key, s3_folder))\n",
    "        if not os.path.exists(os.path.dirname(target)):\n",
    "            os.makedirs(os.path.dirname(target))\n",
    "        if obj.key[-1] == '/':\n",
    "            continue\n",
    "        bucket.download_file(obj.key, target)\n",
    "#         print(f'Downloaded {obj}.')\n",
    "\n",
    "download_s3_folder(\n",
    "    bucket_name=BUCKET_NAME,\n",
    "    s3_folder=TOPIC\n",
    ")"
   ]
  },
  {
   "cell_type": "code",
   "execution_count": null,
   "metadata": {},
   "outputs": [
    {
     "data": {
      "text/html": [
       "<div>\n",
       "<style scoped>\n",
       "    .dataframe tbody tr th:only-of-type {\n",
       "        vertical-align: middle;\n",
       "    }\n",
       "\n",
       "    .dataframe tbody tr th {\n",
       "        vertical-align: top;\n",
       "    }\n",
       "\n",
       "    .dataframe thead th {\n",
       "        text-align: right;\n",
       "    }\n",
       "</style>\n",
       "<table border=\"1\" class=\"dataframe\">\n",
       "  <thead>\n",
       "    <tr style=\"text-align: right;\">\n",
       "      <th></th>\n",
       "      <th>Timestamp</th>\n",
       "      <th>username</th>\n",
       "      <th>ip</th>\n",
       "    </tr>\n",
       "  </thead>\n",
       "  <tbody>\n",
       "    <tr>\n",
       "      <th>53</th>\n",
       "      <td>2022-10-10 08:51:06</td>\n",
       "      <td>done2</td>\n",
       "      <td>192.168.1.115</td>\n",
       "    </tr>\n",
       "    <tr>\n",
       "      <th>59</th>\n",
       "      <td>2022-10-12 03:41:05</td>\n",
       "      <td>done3</td>\n",
       "      <td>192.168.1.117</td>\n",
       "    </tr>\n",
       "  </tbody>\n",
       "</table>\n",
       "</div>"
      ],
      "text/plain": [
       "             Timestamp username             ip\n",
       "53 2022-10-10 08:51:06    done2  192.168.1.115\n",
       "59 2022-10-12 03:41:05    done3  192.168.1.117"
      ]
     },
     "execution_count": 46,
     "metadata": {},
     "output_type": "execute_result"
    }
   ],
   "source": [
    "import pandas as pd\n",
    "import os\n",
    "\n",
    "# Read the files in the directory\n",
    "path = './topic/publish_ip/'\n",
    "files = os.listdir(path)\n",
    "\n",
    "# Read json content into pandas series\n",
    "dfs = [pd.read_json(f'{path}{f}', typ='series') for f in files]\n",
    "\n",
    "# Concatenate series and turn into pandas dataframe\n",
    "df = pd.concat(dfs, axis=1).T\n",
    "\n",
    "\n",
    "# Processing\n",
    "def convert_to_timestamp(df: pd.DataFrame, col: str) -> pd.DataFrame:\n",
    "    \"\"\"Converts column `col` of `df` to timestamp inferring the datetime format.\n",
    "    \"\"\"\n",
    "    df[col] = pd.to_datetime(df[col], infer_datetime_format=True)\n",
    "    return df\n",
    "\n",
    "def get_device_id(df: pd.DataFrame, col: str) -> pd.DataFrame:\n",
    "    \"\"\"Extracts the device id in the username column `col` of `df`.\n",
    "    \"\"\"\n",
    "    df['device'] = df[col].str.extract(r'.+(\\d)')\n",
    "    return df\n",
    "\n",
    "def keep_latest_timestamp(\n",
    "    df: pd.DataFrame, timestamp_col: str, keep_col: str, orderby_col: str\n",
    ") -> pd.DataFrame:\n",
    "    \"\"\"Keeps the last subset of `df` based on the `keep_col` ordered by the `timestamp_col`.\n",
    "    Returned dataframe is ordered by the `orderby_col`.\n",
    "    \"\"\"\n",
    "    df = (\n",
    "        df\n",
    "        .sort_values(by=timestamp_col)\n",
    "        .drop_duplicates(subset=[keep_col], keep=\"last\")\n",
    "        .sort_values(by=['device'])\n",
    "    )\n",
    "    \n",
    "    return df\n",
    "\n",
    "\n",
    "df = (\n",
    "    df\n",
    "    .pipe(func=convert_to_timestamp, col='Timestamp')\n",
    "    .pipe(func=get_device_id, col='username')\n",
    "    .pipe(func=keep_latest_timestamp, timestamp_col='Timestamp', keep_col='username', orderby_col='device')\n",
    ")\n",
    "\n",
    "df"
   ]
  },
  {
   "cell_type": "code",
   "execution_count": null,
   "metadata": {},
   "outputs": [],
   "source": []
  }
 ],
 "metadata": {
  "kernelspec": {
   "display_name": "Python 3.10.5 ('env': venv)",
   "language": "python",
   "name": "python3"
  },
  "language_info": {
   "codemirror_mode": {
    "name": "ipython",
    "version": 3
   },
   "file_extension": ".py",
   "mimetype": "text/x-python",
   "name": "python",
   "nbconvert_exporter": "python",
   "pygments_lexer": "ipython3",
   "version": "3.10.5"
  },
  "orig_nbformat": 4,
  "vscode": {
   "interpreter": {
    "hash": "f7a072f87d062ddfa8544345e2554f034389ddf6c0f1b3f6cb317c7fd99af5c6"
   }
  }
 },
 "nbformat": 4,
 "nbformat_minor": 2
}
