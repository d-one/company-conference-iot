{
 "cells": [
  {
   "cell_type": "code",
   "execution_count": 45,
   "metadata": {},
   "outputs": [],
   "source": [
    "import boto3\n",
    "import os\n",
    "\n",
    "s3 = boto3.resource('s3')\n",
    "\n",
    "def download_s3_folder(bucket_name: str, s3_folder: str, local_dir: str =None):\n",
    "    \"\"\"\n",
    "    Download the contents of a folder directory\n",
    "    Args:\n",
    "        bucket_name: the name of the s3 bucket\n",
    "        s3_folder: the folder path in the s3 bucket\n",
    "        local_dir: a relative or absolute directory path in the local file system\n",
    "    \"\"\"\n",
    "    bucket = s3.Bucket(bucket_name)\n",
    "    for obj in bucket.objects.filter(Prefix=s3_folder):\n",
    "        target = obj.key if local_dir is None \\\n",
    "            else os.path.join(local_dir, os.path.relpath(obj.key, s3_folder))\n",
    "        if not os.path.exists(os.path.dirname(target)):\n",
    "            os.makedirs(os.path.dirname(target))\n",
    "        if obj.key[-1] == '/':\n",
    "            continue\n",
    "        bucket.download_file(obj.key, target)\n",
    "\n",
    "download_s3_folder(\n",
    "    bucket_name='iot-workshop-publish-ip',\n",
    "    s3_folder='topic/publish_ip',\n",
    "    local_dir='C:\\\\Users\\\\heiko\\\\OneDrive\\\\02_Arbeit\\\\2021-_DONE\\\\05_Conferences\\\\2022_CompanyWorkshop\\\\01_IoT\\\\repo\\\\ip_addresses\\\\'\n",
    ")"
   ]
  },
  {
   "cell_type": "code",
   "execution_count": 46,
   "metadata": {},
   "outputs": [
    {
     "data": {
      "text/html": [
       "<div>\n",
       "<style scoped>\n",
       "    .dataframe tbody tr th:only-of-type {\n",
       "        vertical-align: middle;\n",
       "    }\n",
       "\n",
       "    .dataframe tbody tr th {\n",
       "        vertical-align: top;\n",
       "    }\n",
       "\n",
       "    .dataframe thead th {\n",
       "        text-align: right;\n",
       "    }\n",
       "</style>\n",
       "<table border=\"1\" class=\"dataframe\">\n",
       "  <thead>\n",
       "    <tr style=\"text-align: right;\">\n",
       "      <th></th>\n",
       "      <th>Timestamp</th>\n",
       "      <th>username</th>\n",
       "      <th>ip</th>\n",
       "    </tr>\n",
       "  </thead>\n",
       "  <tbody>\n",
       "    <tr>\n",
       "      <th>53</th>\n",
       "      <td>2022-10-10 08:51:06</td>\n",
       "      <td>done2</td>\n",
       "      <td>192.168.1.115</td>\n",
       "    </tr>\n",
       "    <tr>\n",
       "      <th>59</th>\n",
       "      <td>2022-10-12 03:41:05</td>\n",
       "      <td>done3</td>\n",
       "      <td>192.168.1.117</td>\n",
       "    </tr>\n",
       "  </tbody>\n",
       "</table>\n",
       "</div>"
      ],
      "text/plain": [
       "             Timestamp username             ip\n",
       "53 2022-10-10 08:51:06    done2  192.168.1.115\n",
       "59 2022-10-12 03:41:05    done3  192.168.1.117"
      ]
     },
     "execution_count": 46,
     "metadata": {},
     "output_type": "execute_result"
    }
   ],
   "source": [
    "import pandas as pd\n",
    "import os\n",
    "\n",
    "# Read the files in the directory\n",
    "path = 'C:\\\\Users\\\\heiko\\\\OneDrive\\\\02_Arbeit\\\\2021-_DONE\\\\05_Conferences\\\\2022_CompanyWorkshop\\\\01_IoT\\\\repo\\\\ip_addresses\\\\'\n",
    "files = os.listdir(path)\n",
    "dfs = [pd.read_json(f'{path}{f}', typ='series') for f in files]\n",
    "# pd.read_json('C:\\\\Users\\\\heiko\\\\OneDrive\\\\02_Arbeit\\\\2021-_DONE\\\\05_Conferences\\\\2022_CompanyWorkshop\\\\01_IoT\\\\repo\\\\ip_addresses\\\\1665424686895.json', typ='series')\n",
    "df = pd.concat(dfs, axis=1).T\n",
    "df['Timestamp'] = pd.to_datetime(df['Timestamp'], infer_datetime_format=True)\n",
    "\n",
    "df.sort_values(by='Timestamp').drop_duplicates(subset=[\"username\"], keep=\"last\")"
   ]
  }
 ],
 "metadata": {
  "kernelspec": {
   "display_name": "Python 3.10.5 ('env': venv)",
   "language": "python",
   "name": "python3"
  },
  "language_info": {
   "codemirror_mode": {
    "name": "ipython",
    "version": 3
   },
   "file_extension": ".py",
   "mimetype": "text/x-python",
   "name": "python",
   "nbconvert_exporter": "python",
   "pygments_lexer": "ipython3",
   "version": "3.10.5"
  },
  "orig_nbformat": 4,
  "vscode": {
   "interpreter": {
    "hash": "f7a072f87d062ddfa8544345e2554f034389ddf6c0f1b3f6cb317c7fd99af5c6"
   }
  }
 },
 "nbformat": 4,
 "nbformat_minor": 2
}
